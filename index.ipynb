{
 "cells": [
  {
   "cell_type": "code",
   "execution_count": 1,
   "metadata": {},
   "outputs": [
    {
     "data": {
      "application/javascript": "\n            setTimeout(function() {\n                var nbb_cell_id = 1;\n                var nbb_unformatted_code = \"# hide\\n%load_ext nb_black\\n# nb_black if using jupyter\";\n                var nbb_formatted_code = \"# hide\\n%load_ext nb_black\\n# nb_black if using jupyter\";\n                var nbb_cells = Jupyter.notebook.get_cells();\n                for (var i = 0; i < nbb_cells.length; ++i) {\n                    if (nbb_cells[i].input_prompt_number == nbb_cell_id) {\n                        if (nbb_cells[i].get_text() == nbb_unformatted_code) {\n                             nbb_cells[i].set_text(nbb_formatted_code);\n                        }\n                        break;\n                    }\n                }\n            }, 500);\n            ",
      "text/plain": [
       "<IPython.core.display.Javascript object>"
      ]
     },
     "metadata": {},
     "output_type": "display_data"
    }
   ],
   "source": [
    "# hide\n",
    "%load_ext nb_black\n",
    "# nb_black if using jupyter"
   ]
  },
  {
   "cell_type": "markdown",
   "metadata": {},
   "source": [
    "# Helsinki Machine Learning Project Template\n",
    "\n",
    "    Template for open source ML and predictive analytics projects."
   ]
  },
  {
   "cell_type": "markdown",
   "metadata": {},
   "source": [
    "![Python version](https://img.shields.io/badge/python-3.8-blue)\n",
    "[![Code style: black](https://img.shields.io/badge/code%20style-black-000000.svg)](https://github.com/psf/black)\n",
    "[![GitHub version](https://badge.fury.io/gh/City-of-Helsinki%2Fml_project_template.svg)](https://badge.fury.io/gh/City-of-Helsinki%2Fml_project_template)\n",
    "![GitHub issues](https://img.shields.io/github/issues/City-of-Helsinki/ml_project_template)\n",
    "![GitHub issues](https://img.shields.io/github/issues-closed-raw/City-of-Helsinki/ml_project_template)\n",
    "![GitHub forks](https://img.shields.io/github/forks/City-of-Helsinki/ml_project_template)\n",
    "![GitHub stars](https://img.shields.io/github/stars/City-of-Helsinki/ml_project_template)\n",
    "![GitHub license](https://img.shields.io/github/license/City-of-Helsinki/ml_project_template)"
   ]
  },
  {
   "cell_type": "markdown",
   "metadata": {},
   "source": [
    "    NOTE: Once you begin your work, rewrite this notebook (index.ipynb) so that it describes your project, and regenerate README by calling `nbdev_build_docs`"
   ]
  },
  {
   "cell_type": "markdown",
   "metadata": {},
   "source": [
    "## About\n",
    "\n",
    "This is a git repository template for Python-based open source ML and analytics projects.\n",
    "\n",
    "The template assumes the concept of Notebook Development.\n",
    "This means, that you do all the data science work inside notebooks.\n",
    "There is no copy-pasting! We use the [nbdev](https://nbdev.fast.ai/) tool to build python modules and doc pages from the notebooks, automatically.\n",
    "This way you always have your code, results and documentation as one. \n",
    "Notebooks can be executed with the [papermill](https://papermill.readthedocs.io/) tool for an automatic, \n",
    "well documented model update workflow. Handy, isn't it?\n",
    "\n",
    "The template assumes that you divide your machine learning project into 5 parts:\n",
    "\n",
    "0. Data - loading & preprocessing\n",
    "1. Model - Python class code & algorithm development\n",
    "2. Loss - model training & evaluation\n",
    "3. Workflow - automatic model update (reproduce steps 0.-2.)\n",
    "4. API - an interface to interact with a trained model\n",
    "\n",
    "Each part has their own notebook template, that you can follow to plan and do your development.\n",
    "\n",
    "In addition, the template comes with a working Dockerfile and .devcontainer for doing your development easily with any device.\n",
    "You can extend these for your needs and for building a runtime container for your machine learning app.\n",
    "\n",
    "The template is completely open source and environment agnostic.\n",
    "Follow the installation instructions to create a new, \n",
    "independent repository with clean commit history, \n",
    "but with a copy of all the files and folders presented.\n",
    "The authors of this template will not be contributors to your project,\n",
    "although we are more hear what you have achieved with it!\n",
    "Also, if you don't like something or know an improvement, your contribution is very welcome!\n",
    "\n",
    "Note, that updates to the template can not be automatically pulled to child projects.\n",
    "\n",
    "The template is developed and maintained by the data and analytics team of the city of Helsinki.\n",
    "The template is published under the Apache-2.0 licence and open source utilization is encouraged!\n"
   ]
  },
  {
   "cell_type": "markdown",
   "metadata": {},
   "source": [
    "## Contents\n",
    "\n",
    "The core structure of the repository is the following:\n",
    "\n",
    "    ## EDITABLE:\n",
    "    data/               # Folder for storing data files. Ignored by git by default.\n",
    "    |- raw_data/        # To store raw data files\n",
    "    |- preprocessed_data/   # To store cleaned data\n",
    "    results/            # Save results here. Ignored by git by default.\n",
    "    |- notebooks/       # Save automatically executed notebooks here\n",
    "    00_data.ipynb       # Extract, transfer, load data here & define related functions.\n",
    "    01_model.ipynb      # Create and code test your ML model\n",
    "    02_loss.ipynb       # Train and evaluate ML model, deploy or save for later use\n",
    "    03_workflow.ipynb   # Define ML workflow and parameterization\n",
    "    04_api.ipynb        # Define runtime API for using trained ML model\n",
    "    project-requirements.in    # Add here the Python packages you want to install\n",
    "    update_install_dev_reqs.sh  # run this script to install new python packages\n",
    "    settings.ini        # Project specific settings. Build instructions for lib and docs.\n",
    "    Dockerfile          # Define docker image build instructions\n",
    "    .devcontainer       # Codespaces / VSC dev environment instructions\n",
    "\n",
    "    ## AUTOMATICALLY GENERATED: (Do not edit unless otherwise specified!)\n",
    "    docs/               # Project documentation (html)\n",
    "    [your_module]/      # Python module built from the notebooks (follow the installation instructions).\n",
    "    README.md           # The frontpage of your project, generated from index.ipynb\n",
    "    requirements.txt    # dev / default requirements. automatically generated by pip-tools\n",
    "    min-requirements.txt # lighter requirements without dev tools. automatically generated by pip-tools\n",
    "\n",
    "    ## STATIC NON-EDITABLE: (Edit only if you know what you're doing!)\n",
    "    base-requirements.in    # core tools that every project built based on the template always requires\n",
    "    requirements.in    # development tools + project spesific requirements\n",
    "    LISENCE                 # lisence information\n",
    "    MANIFEST.in             # metadata for building python distributable\n",
    "    setup.py                # settings for the python module of your project\n",
    "    CODE_OF_CONDUCT.md      # code of conduct. Please review before contributing.\n",
    "                                         "
   ]
  },
  {
   "cell_type": "markdown",
   "metadata": {},
   "source": [
    "## How to install\n",
    "\n",
    "> Note: if you are doing a project on personal data for the City of Helsinki, contact the data and analytics team of the city before proceeding any further!\n",
    "\n",
    "### 1. On your GitHub homepage\n",
    "\n",
    "0. (Create [GitHub account](https://github.com/) if you do not have one already. \n",
    "1. Sign into your GitHub homepage\n",
    "2. Go to [github.com/City-of-Helsinki/ml_project_template](https://github.com/City-of-Helsinki/ml_project_template) and click the green button that says 'Use this template'.\n",
    "3. Give your project a name. Do not use the dash symbol '-', but rather the underscore '_', because the name of the repo will become the name of your Python module.\n",
    "4. If you are creating a project for your organization, change the owner of the repo. From the drop down bar, select your organization GitHub account (e.g. City-of-Helsinki). You need to be included as a team member to the GitHub of the organization.\n",
    "5. Define your project publicity (you can change this later, but most likely you want to begin with a private repo).\n",
    "6. Click 'Create repository from template'\n",
    "\n",
    "This will create a new repository for you copying everything from this template, but with clean commit history.\n",
    "\n",
    "### 2. Setting up your development environment\n",
    "\n",
    "#### a) Recommended: Codespaces\n",
    "\n",
    "If your organization has [Codespaces](https://github.com/features/codespaces) enabled (requires GitHub Enterprise & Azure subscription), you are now ready to begin development. Just launch the repository in a codespace, and a dev container is automatically set up!\n",
    "\n",
    "#### b) Can't use Codespaces: Local installation with Docker\n",
    "\n",
    "You can build a development environment locally with docker.\n",
    "The recommended way is to use VSC in container development mode ([link to instructions](https://code.visualstudio.com/docs/remote/containers)).\n",
    "\n",
    "#### c) Can't use Docker: Local manual installation\n",
    "\n",
    "You can also do your development 'the good old way':\n",
    "\n",
    "0. Create an SSH key and add it to your github profile ([instructions](https://docs.github.com/en/authentication/connecting-to-github-with-ssh))\n",
    "1. Configure your git user name and email adress if you haven't done it already: `git config --global user.name \"Firstname Lastname\" && git config --global user.email \"your@email.com\"`\n",
    "2. Clone your new repository: `git clone git@github.com:[repository_owner]/[your_repository]`\n",
    "3. Go inside the repository folder: `cd [your_repository]`\n",
    "4. Create and activate virtual environment of your choice. Remember to define the Python version to 3.8! (Instructions: [conda](https://docs.conda.io/projects/conda/en/latest/user-guide/tasks/manage-environments.html), [venv](https://packaging.python.org/en/latest/guides/installing-using-pip-and-virtual-environments/))\n",
    "5. Install pip-tools: `python -m pip install pip-tools`\n",
    "6. Install requirements: `pip-sync requirements.txt`\n",
    "7. Create an ipython kernel for running the notebooks: `python -m ipykernel install --user --name python38myenv`\n",
    "8. The default development enviroment contains basic Jupyter, and many IDEs have built-in support notebooks. If you wish, you can install JupyterLab by uncommenting it in `requirements.in` and re-running pip-sync. To launch JupyterLab, run `jupyter-lab --allow-root --config .devcontainer/jupyter-server-config.py`\n",
    "\n",
    "#### d) Can't connect to internet: Offline install with Docker\n",
    "\n",
    "Sometimes you have to work in an environment that can not be connected to the internet, for example for privacy or cybersecurity reasons. In this case, first install the template and all packages that you assume you will require to an environment with internet, and build the docker image as in 2c). Then, save the docker image and transfer it to your offline environment following [these instructions](https://stackoverflow.com/questions/48125169/how-run-docker-images-without-connect-to-internet/48125632#48125632).\n",
    "\n",
    "### 3. Initializing your project\n",
    "\n",
    "Few last tweaks before you are good to go:\n",
    "\n",
    "1. Edit `LICENCE`, `Makefile`, `settings.ini`, `docs/_config.yml` and `docs/_data/topnav.yml` according to your project details. Don't worry - you can continue editing them in the future.\n",
    "2. Remove the folder `ml_project_template` with the command `git rm -r ml_project_template`. A new folder with the name of your repository will be created automatically when calling `nbdev_build_lib`.\n",
    "3. Recreate the python module: `nbdev_build_lib`. In the future, repeat this step every time you move between notebooks to ensure your python modules are up to date.\n",
    "4. Recreate the html doc pages & README: `nbdev_build_docs`. In the future, repeat this step every time you push code to ensure your documentation is up to date.\n",
    "5. Make initial commit: `git add . && git commit -m \"initialized repository from City-of-Helsinki/ml_project_template\"`\n",
    "6. Push changes `git push -u origin master`\n",
    "\n",
    "You are now ready to begin your ML project development. Remember to track your changes with git!\n"
   ]
  },
  {
   "cell_type": "markdown",
   "metadata": {},
   "source": [
    "## How to use\n",
    "\n",
    "1. Install this template as basis of your new project (see above).\n",
    "\n",
    "2. If you are not working inside a container, remember to activate your virtual environment every time you begin work: `conda activate [environment name]` with anaconda or `source [environment name]/bin/activate` with virtualenv.\n",
    "\n",
    "3. Develop your ML solution! (Follow the notebooks!)\n",
    "\n",
    "4. Save your notebooks and call `nbdev_build_lib` to build python modules of your notebooks - needed if you want to share code between notebooks or create a modules.\n",
    "This will export all notebook cells with `# export` tag to corresponding .py files under the module (the folder inside your repository named after your repository).\n",
    "Do this every time you make changes to any exportable parts of the code.\n",
    "\n",
    "5. Save your notebooks and call `nbdev_build_docs` to create doc pages based on your notebooks (see below).\n",
    "This will convert the notebooks into HTML files under `docs/` and update README based on the `index.ipynb`.\n",
    "If you want to host your project pages on GitHub (like [the doc pages of this template](https://city-of-helsinki.github.io/ml_project_template/)), you will have to make your project public and enable github pages in repo > Settings > Pages : set Source to `docs/`.\n",
    "Alternatively you can build the pages locally with jekyll.\n"
   ]
  },
  {
   "cell_type": "markdown",
   "metadata": {},
   "source": [
    "## Installing & updating project libraries\n",
    "\n",
    "Python has a rich and wide ecosystem of libraries to help with machine learning tasks among other things.\n",
    "Pandas, Matplotlib, Scipy, PyTorch to name a few.\n",
    "If base libraries in this template aren't sufficient you can add more with `pip install library`.\n",
    "However, `pip` command installs libraries into your local Python environment. \n",
    "To achieve consistent reproducibility we need to gather information about requirements into project repository. \n",
    "New libraries are added to **`project-requirements.in`** file. When you change this file remember to run:\n",
    "\n",
    "```bash\n",
    "pip-compile --generate-hashes --allow-unsafe -o requirements.txt base-requirements.in requirements.in project-requirements.in\n",
    "pip-compile --generate-hashes --allow-unsafe -o min-requirements.txt base-requirements.in project-requirements.in\n",
    "```\n",
    "\n",
    "These update full requirements for development environments and lighter, more focused requirements for server usage.\n",
    "\n",
    "After requirements are updated you should run:\n",
    "\n",
    "```bash\n",
    "pip-sync requirements.txt\n",
    "```\n",
    "\n",
    "This way libraries you and other users will have the same Python environment.\n",
    "\n",
    "\n",
    "    NOTE: run `./update_install_dev_reqs.sh` for short - it contains the three above pip commands for updating and installing the requirements!\n",
    "\n",
    "    WARNING: if you don't update package names and versions next time you or anybody else tries to use this project in another environment its code might not work. Worse, it might *seem to* work, but does so incorrectly.\n"
   ]
  },
  {
   "cell_type": "markdown",
   "metadata": {},
   "source": [
    "## Ethical aspects\n",
    "\n",
    "Please involve ethical consideration in the documentation ML application.\n",
    "\n",
    "For example:\n",
    "* Can you recognize ethical issues with your ML project?\n",
    "* Is there a risk for bias, discrimination, violation of privacy or conflict with the local or global laws?\n",
    "* Could your results or algorithms be misused for malicious acts?\n",
    "* Can data or model updates include bias in your model?\n",
    "* How have you tackled these issues in your implementation?\n",
    "* You most certainly make ethical choises in your code. Do you document & highlight them?\n",
    "* If you build an actual application, how can contribute if they notice an unresolved ethical issue?"
   ]
  },
  {
   "cell_type": "markdown",
   "metadata": {},
   "source": [
    "## How to cite (optional)\n",
    "\n",
    "If you are doing a research project, you can add bibtex and other citation templates here.\n",
    "You can also get a doi for your code by adding it to a code archive,\n",
    "so your code can be cited directly! Most archives also provide repository badges.\n",
    "\n",
    "To cite this work, use:\n",
    "\n",
    "    @misc{sten2022helsinki,\n",
    "    title = {Helsinki Machine Learning Project Template},\n",
    "    author = {Nuutti A Sten and Jussi Arpalahti},\n",
    "    year = {2022},\n",
    "    howpublished = {City of Helsinki. Available at: \\url{https://github.com/City-of-Helsinki/ml_project_template}}\n",
    "    }"
   ]
  },
  {
   "cell_type": "markdown",
   "metadata": {},
   "source": [
    "## Contributing\n",
    "\n",
    "See [CONTRIBUTING.md](https://github.com/City-of-Helsinki/ml_project_template/blob/master/CONTRIBUTING.md) on how to contribute to the development of this template.\n"
   ]
  },
  {
   "cell_type": "markdown",
   "metadata": {},
   "source": [
    "## Copyright\n",
    "\n",
    "Copyright 2022 City-of-Helsinki. Licensed under the Apache License, Version 2.0 (the \"License\");\n",
    "you may not use this project's files except in compliance with the License.\n",
    "A copy of the License is provided in the LICENSE file in this repository.\n",
    "\n",
    "The Helsinki logo is a registered trademark, and may only be used by the city of Helsinki.\n",
    "    \n",
    "    NOTE: If you are using this template for other than city of Helsinki projects, remove the files `favicon.ico` and `company_logo.png` from `docs/assets/images/`.\n",
    "\n",
    "\n",
    "    # to remove remove helsinki logo and favicon, run:\n",
    "    git rm docs/assets/images/favicon.ico docs/assets/images/company_logo.png\n",
    "    git commit -m \"removed Helsinki logo and favicon\"\n",
    "\n",
    "This template was built using [nbdev](https://nbdev.fast.ai/) on top of the fast.ai [nbdev_template](https://github.com/fastai/nbdev_template)."
   ]
  }
 ],
 "metadata": {
  "interpreter": {
   "hash": "e7370f93d1d0cde622a1f8e1c04877d8463912d04d973331ad4851f04de6915a"
  },
  "kernelspec": {
   "display_name": "python38myenv",
   "language": "python",
   "name": "python38myenv"
  },
  "language_info": {
   "codemirror_mode": {
    "name": "ipython",
    "version": 3
   },
   "file_extension": ".py",
   "mimetype": "text/x-python",
   "name": "python",
   "nbconvert_exporter": "python",
   "pygments_lexer": "ipython3",
   "version": "3.8.10"
  }
 },
 "nbformat": 4,
 "nbformat_minor": 4
}
